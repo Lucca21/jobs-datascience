{
 "cells": [
  {
   "cell_type": "markdown",
   "metadata": {},
   "source": [
    "## Boa tarde! \n",
    "## Essa é a minha resolução para o problema. No final desse script, é gerado um arquivo .csv que contém os dados do dataset de 2020 com a coluna de predição feita pelo modelo. "
   ]
  },
  {
   "cell_type": "code",
   "execution_count": 2,
   "metadata": {},
   "outputs": [],
   "source": [
    "## Importando as bibliotecas necessárias\n",
    "\n",
    "import pandas as pd\n",
    "import requests\n",
    "import numpy as np "
   ]
  },
  {
   "cell_type": "markdown",
   "metadata": {},
   "source": [
    "## Importando os arquivos "
   ]
  },
  {
   "cell_type": "code",
   "execution_count": 3,
   "metadata": {},
   "outputs": [
    {
     "data": {
      "text/html": [
       "<div>\n",
       "<style scoped>\n",
       "    .dataframe tbody tr th:only-of-type {\n",
       "        vertical-align: middle;\n",
       "    }\n",
       "\n",
       "    .dataframe tbody tr th {\n",
       "        vertical-align: top;\n",
       "    }\n",
       "\n",
       "    .dataframe thead th {\n",
       "        text-align: right;\n",
       "    }\n",
       "</style>\n",
       "<table border=\"1\" class=\"dataframe\">\n",
       "  <thead>\n",
       "    <tr style=\"text-align: right;\">\n",
       "      <th></th>\n",
       "      <th>Unnamed: 0</th>\n",
       "      <th>Identificador_Agricultor</th>\n",
       "      <th>Estimativa_de_Insetos</th>\n",
       "      <th>Tipo_de_Cultivo</th>\n",
       "      <th>Tipo_de_Solo</th>\n",
       "      <th>Categoria_Pesticida</th>\n",
       "      <th>Doses_Semana</th>\n",
       "      <th>Semanas_Utilizando</th>\n",
       "      <th>Semanas_Sem_Uso</th>\n",
       "      <th>Temporada</th>\n",
       "      <th>dano_na_plantacao</th>\n",
       "    </tr>\n",
       "  </thead>\n",
       "  <tbody>\n",
       "    <tr>\n",
       "      <th>0</th>\n",
       "      <td>0</td>\n",
       "      <td>SCROP00001</td>\n",
       "      <td>188</td>\n",
       "      <td>1</td>\n",
       "      <td>0</td>\n",
       "      <td>1</td>\n",
       "      <td>0</td>\n",
       "      <td>0.0</td>\n",
       "      <td>0</td>\n",
       "      <td>1</td>\n",
       "      <td>0</td>\n",
       "    </tr>\n",
       "    <tr>\n",
       "      <th>1</th>\n",
       "      <td>1</td>\n",
       "      <td>SCROP00002</td>\n",
       "      <td>209</td>\n",
       "      <td>1</td>\n",
       "      <td>0</td>\n",
       "      <td>1</td>\n",
       "      <td>0</td>\n",
       "      <td>0.0</td>\n",
       "      <td>0</td>\n",
       "      <td>2</td>\n",
       "      <td>1</td>\n",
       "    </tr>\n",
       "    <tr>\n",
       "      <th>2</th>\n",
       "      <td>2</td>\n",
       "      <td>SCROP00003</td>\n",
       "      <td>257</td>\n",
       "      <td>1</td>\n",
       "      <td>0</td>\n",
       "      <td>1</td>\n",
       "      <td>0</td>\n",
       "      <td>0.0</td>\n",
       "      <td>0</td>\n",
       "      <td>2</td>\n",
       "      <td>1</td>\n",
       "    </tr>\n",
       "    <tr>\n",
       "      <th>3</th>\n",
       "      <td>3</td>\n",
       "      <td>SCROP00004</td>\n",
       "      <td>257</td>\n",
       "      <td>1</td>\n",
       "      <td>1</td>\n",
       "      <td>1</td>\n",
       "      <td>0</td>\n",
       "      <td>0.0</td>\n",
       "      <td>0</td>\n",
       "      <td>2</td>\n",
       "      <td>1</td>\n",
       "    </tr>\n",
       "    <tr>\n",
       "      <th>4</th>\n",
       "      <td>4</td>\n",
       "      <td>SCROP00005</td>\n",
       "      <td>342</td>\n",
       "      <td>1</td>\n",
       "      <td>0</td>\n",
       "      <td>1</td>\n",
       "      <td>0</td>\n",
       "      <td>0.0</td>\n",
       "      <td>0</td>\n",
       "      <td>2</td>\n",
       "      <td>1</td>\n",
       "    </tr>\n",
       "  </tbody>\n",
       "</table>\n",
       "</div>"
      ],
      "text/plain": [
       "   Unnamed: 0 Identificador_Agricultor  Estimativa_de_Insetos  \\\n",
       "0           0               SCROP00001                    188   \n",
       "1           1               SCROP00002                    209   \n",
       "2           2               SCROP00003                    257   \n",
       "3           3               SCROP00004                    257   \n",
       "4           4               SCROP00005                    342   \n",
       "\n",
       "   Tipo_de_Cultivo  Tipo_de_Solo  Categoria_Pesticida  Doses_Semana  \\\n",
       "0                1             0                    1             0   \n",
       "1                1             0                    1             0   \n",
       "2                1             0                    1             0   \n",
       "3                1             1                    1             0   \n",
       "4                1             0                    1             0   \n",
       "\n",
       "   Semanas_Utilizando  Semanas_Sem_Uso  Temporada  dano_na_plantacao  \n",
       "0                 0.0                0          1                  0  \n",
       "1                 0.0                0          2                  1  \n",
       "2                 0.0                0          2                  1  \n",
       "3                 0.0                0          2                  1  \n",
       "4                 0.0                0          2                  1  "
      ]
     },
     "execution_count": 3,
     "metadata": {},
     "output_type": "execute_result"
    }
   ],
   "source": [
    "\n",
    "## Dados de 2019\n",
    "\n",
    "url2019 = 'https://raw.githubusercontent.com/Lucca21/jobs-datascience/master/Safra_2018-2019.csv'\n",
    "df2019 = pd.read_csv(url2019) \n",
    "df2019.head()"
   ]
  },
  {
   "cell_type": "code",
   "execution_count": 4,
   "metadata": {},
   "outputs": [
    {
     "data": {
      "text/html": [
       "<div>\n",
       "<style scoped>\n",
       "    .dataframe tbody tr th:only-of-type {\n",
       "        vertical-align: middle;\n",
       "    }\n",
       "\n",
       "    .dataframe tbody tr th {\n",
       "        vertical-align: top;\n",
       "    }\n",
       "\n",
       "    .dataframe thead th {\n",
       "        text-align: right;\n",
       "    }\n",
       "</style>\n",
       "<table border=\"1\" class=\"dataframe\">\n",
       "  <thead>\n",
       "    <tr style=\"text-align: right;\">\n",
       "      <th></th>\n",
       "      <th>Unnamed: 0</th>\n",
       "      <th>Identificador_Agricultor</th>\n",
       "      <th>Estimativa_de_Insetos</th>\n",
       "      <th>Tipo_de_Cultivo</th>\n",
       "      <th>Tipo_de_Solo</th>\n",
       "      <th>Categoria_Pesticida</th>\n",
       "      <th>Doses_Semana</th>\n",
       "      <th>Semanas_Utilizando</th>\n",
       "      <th>Semanas_Sem_Uso</th>\n",
       "      <th>Temporada</th>\n",
       "    </tr>\n",
       "  </thead>\n",
       "  <tbody>\n",
       "    <tr>\n",
       "      <th>0</th>\n",
       "      <td>80000</td>\n",
       "      <td>SCROP80001</td>\n",
       "      <td>256</td>\n",
       "      <td>0</td>\n",
       "      <td>1</td>\n",
       "      <td>2</td>\n",
       "      <td>35</td>\n",
       "      <td>11.0</td>\n",
       "      <td>9</td>\n",
       "      <td>1</td>\n",
       "    </tr>\n",
       "    <tr>\n",
       "      <th>1</th>\n",
       "      <td>80001</td>\n",
       "      <td>SCROP80002</td>\n",
       "      <td>283</td>\n",
       "      <td>0</td>\n",
       "      <td>1</td>\n",
       "      <td>2</td>\n",
       "      <td>5</td>\n",
       "      <td>5.0</td>\n",
       "      <td>6</td>\n",
       "      <td>1</td>\n",
       "    </tr>\n",
       "    <tr>\n",
       "      <th>2</th>\n",
       "      <td>80002</td>\n",
       "      <td>SCROP80003</td>\n",
       "      <td>283</td>\n",
       "      <td>0</td>\n",
       "      <td>1</td>\n",
       "      <td>2</td>\n",
       "      <td>15</td>\n",
       "      <td>15.0</td>\n",
       "      <td>5</td>\n",
       "      <td>2</td>\n",
       "    </tr>\n",
       "    <tr>\n",
       "      <th>3</th>\n",
       "      <td>80003</td>\n",
       "      <td>SCROP80004</td>\n",
       "      <td>283</td>\n",
       "      <td>0</td>\n",
       "      <td>1</td>\n",
       "      <td>2</td>\n",
       "      <td>15</td>\n",
       "      <td>NaN</td>\n",
       "      <td>7</td>\n",
       "      <td>2</td>\n",
       "    </tr>\n",
       "    <tr>\n",
       "      <th>4</th>\n",
       "      <td>80004</td>\n",
       "      <td>SCROP80005</td>\n",
       "      <td>283</td>\n",
       "      <td>0</td>\n",
       "      <td>1</td>\n",
       "      <td>2</td>\n",
       "      <td>15</td>\n",
       "      <td>19.0</td>\n",
       "      <td>2</td>\n",
       "      <td>1</td>\n",
       "    </tr>\n",
       "  </tbody>\n",
       "</table>\n",
       "</div>"
      ],
      "text/plain": [
       "   Unnamed: 0 Identificador_Agricultor  Estimativa_de_Insetos  \\\n",
       "0       80000               SCROP80001                    256   \n",
       "1       80001               SCROP80002                    283   \n",
       "2       80002               SCROP80003                    283   \n",
       "3       80003               SCROP80004                    283   \n",
       "4       80004               SCROP80005                    283   \n",
       "\n",
       "   Tipo_de_Cultivo  Tipo_de_Solo  Categoria_Pesticida  Doses_Semana  \\\n",
       "0                0             1                    2            35   \n",
       "1                0             1                    2             5   \n",
       "2                0             1                    2            15   \n",
       "3                0             1                    2            15   \n",
       "4                0             1                    2            15   \n",
       "\n",
       "   Semanas_Utilizando  Semanas_Sem_Uso  Temporada  \n",
       "0                11.0                9          1  \n",
       "1                 5.0                6          1  \n",
       "2                15.0                5          2  \n",
       "3                 NaN                7          2  \n",
       "4                19.0                2          1  "
      ]
     },
     "execution_count": 4,
     "metadata": {},
     "output_type": "execute_result"
    }
   ],
   "source": [
    "## Dados de 2020\n",
    "\n",
    "url2020 = 'https://raw.githubusercontent.com/Lucca21/jobs-datascience/master/Safra_2020.csv'\n",
    "df2020= pd.read_csv(url2020) \n",
    "df2020.head()"
   ]
  },
  {
   "cell_type": "code",
   "execution_count": 5,
   "metadata": {},
   "outputs": [],
   "source": [
    "## Definindo as features utilizadas \n",
    "## Estou definindo as features me baseando na instrução de remover variáveis de tempo e ambiente.\n",
    "\n",
    "variaveis = ['Categoria_Pesticida','Doses_Semana','Semanas_Utilizando','Semanas_Sem_Uso']\n",
    "\n",
    "x = df2019[variaveis]\n",
    "y = df2019['dano_na_plantacao']\n",
    "\n"
   ]
  },
  {
   "cell_type": "markdown",
   "metadata": {},
   "source": [
    "## Tratando os NaNs \n"
   ]
  },
  {
   "cell_type": "code",
   "execution_count": 6,
   "metadata": {},
   "outputs": [
    {
     "name": "stdout",
     "output_type": "stream",
     "text": [
      "Categoria_Pesticida       0\n",
      "Doses_Semana              0\n",
      "Semanas_Utilizando     8055\n",
      "Semanas_Sem_Uso           0\n",
      "dtype: int64\n"
     ]
    }
   ],
   "source": [
    "print(x.isna().sum())"
   ]
  },
  {
   "cell_type": "code",
   "execution_count": 7,
   "metadata": {},
   "outputs": [
    {
     "name": "stderr",
     "output_type": "stream",
     "text": [
      "C:\\Users\\lucca\\Anaconda3\\lib\\site-packages\\ipykernel_launcher.py:5: SettingWithCopyWarning: \n",
      "A value is trying to be set on a copy of a slice from a DataFrame.\n",
      "Try using .loc[row_indexer,col_indexer] = value instead\n",
      "\n",
      "See the caveats in the documentation: http://pandas.pydata.org/pandas-docs/stable/indexing.html#indexing-view-versus-copy\n",
      "  \"\"\"\n"
     ]
    }
   ],
   "source": [
    "## Temos 8055 NaNs referentes a variável 'Semanas_Utilizando'. \n",
    "## Para lidar com os NaNs eu optei por substituir pela média. \n",
    "\n",
    "med = x['Semanas_Utilizando'].mean()\n",
    "x['Semanas_Utilizando'] = x['Semanas_Utilizando'].fillna(med)"
   ]
  },
  {
   "cell_type": "code",
   "execution_count": 8,
   "metadata": {},
   "outputs": [],
   "source": [
    "from sklearn.model_selection import train_test_split"
   ]
  },
  {
   "cell_type": "code",
   "execution_count": 9,
   "metadata": {},
   "outputs": [],
   "source": [
    "## Agora, vou dividir o dataset de 2019 em Treino e Teste, para poder criar e testar a acurácia do meu modelo. \n",
    "np.random.seed(90)\n",
    "X_train, X_valid, y_train,y_valid = train_test_split(x,y, test_size = 0.3)"
   ]
  },
  {
   "cell_type": "markdown",
   "metadata": {},
   "source": [
    "## Criando um modelo de Random Forest."
   ]
  },
  {
   "cell_type": "code",
   "execution_count": 10,
   "metadata": {},
   "outputs": [],
   "source": [
    "from sklearn.ensemble import RandomForestClassifier\n",
    "\n",
    "modelo = RandomForestClassifier(n_estimators = 100,\n",
    "                                    n_jobs = -1, \n",
    "                                    random_state = 0)"
   ]
  },
  {
   "cell_type": "code",
   "execution_count": 11,
   "metadata": {
    "scrolled": true
   },
   "outputs": [
    {
     "data": {
      "text/plain": [
       "RandomForestClassifier(bootstrap=True, class_weight=None, criterion='gini',\n",
       "            max_depth=None, max_features='auto', max_leaf_nodes=None,\n",
       "            min_impurity_decrease=0.0, min_impurity_split=None,\n",
       "            min_samples_leaf=1, min_samples_split=2,\n",
       "            min_weight_fraction_leaf=0.0, n_estimators=100, n_jobs=-1,\n",
       "            oob_score=False, random_state=0, verbose=0, warm_start=False)"
      ]
     },
     "execution_count": 11,
     "metadata": {},
     "output_type": "execute_result"
    }
   ],
   "source": [
    "modelo.fit(X_train,y_train)\n"
   ]
  },
  {
   "cell_type": "code",
   "execution_count": 12,
   "metadata": {},
   "outputs": [],
   "source": [
    "p = modelo.predict(X_valid)"
   ]
  },
  {
   "cell_type": "code",
   "execution_count": 13,
   "metadata": {},
   "outputs": [
    {
     "name": "stdout",
     "output_type": "stream",
     "text": [
      "0.8245416666666666\n"
     ]
    }
   ],
   "source": [
    "##acuracia do modelo. \n",
    "\n",
    "acc = np.mean(y_valid == p)\n",
    "print(acc)"
   ]
  },
  {
   "cell_type": "code",
   "execution_count": 14,
   "metadata": {},
   "outputs": [
    {
     "name": "stdout",
     "output_type": "stream",
     "text": [
      "0.8319583333333334\n"
     ]
    }
   ],
   "source": [
    "## Acurácia assumindo que todas as plantações não obtiveram dano. \n",
    "acc2 = np.mean(y_valid == 0 )\n",
    "print(acc2)"
   ]
  },
  {
   "cell_type": "markdown",
   "metadata": {},
   "source": [
    "   ## Temos acc2 > acc.                                                                                                                  Isso significa que se chutarmos que nenhuma plantação foi danificada, seremos mais precisos do que o modelo. Portanto, o modelo não é muito útil por enquanto. O próximo passo seria descobrir algúm modo de aumentar a precisão do modelo. Tentei aumentar a precisão de algumas formas, mas ainda não consegui, e por isso vou fazer a predição para 2020 com o modelo desse jeito mesmo"
   ]
  },
  {
   "cell_type": "code",
   "execution_count": 15,
   "metadata": {},
   "outputs": [
    {
     "name": "stdout",
     "output_type": "stream",
     "text": [
      "Categoria_Pesticida      0\n",
      "Doses_Semana             0\n",
      "Semanas_Utilizando     945\n",
      "Semanas_Sem_Uso          0\n",
      "dtype: int64\n"
     ]
    }
   ],
   "source": [
    "x_prev = df2020[variaveis]\n",
    "\n",
    "print(x_prev.isna().sum())       \n",
    "    \n"
   ]
  },
  {
   "cell_type": "code",
   "execution_count": 16,
   "metadata": {},
   "outputs": [
    {
     "name": "stdout",
     "output_type": "stream",
     "text": [
      "Categoria_Pesticida    0\n",
      "Doses_Semana           0\n",
      "Semanas_Utilizando     0\n",
      "Semanas_Sem_Uso        0\n",
      "dtype: int64\n"
     ]
    },
    {
     "name": "stderr",
     "output_type": "stream",
     "text": [
      "C:\\Users\\lucca\\Anaconda3\\lib\\site-packages\\ipykernel_launcher.py:3: SettingWithCopyWarning: \n",
      "A value is trying to be set on a copy of a slice from a DataFrame.\n",
      "Try using .loc[row_indexer,col_indexer] = value instead\n",
      "\n",
      "See the caveats in the documentation: http://pandas.pydata.org/pandas-docs/stable/indexing.html#indexing-view-versus-copy\n",
      "  This is separate from the ipykernel package so we can avoid doing imports until\n"
     ]
    }
   ],
   "source": [
    "## Tratando os NaNs \n",
    "med2 = x_prev['Semanas_Utilizando'].mean()\n",
    "x_prev['Semanas_Utilizando'] = x_prev['Semanas_Utilizando'].fillna(med2)\n",
    "print(x_prev.isna().sum())                "
   ]
  },
  {
   "cell_type": "code",
   "execution_count": 17,
   "metadata": {},
   "outputs": [],
   "source": [
    "p2020 = modelo.predict(x_prev)"
   ]
  },
  {
   "cell_type": "code",
   "execution_count": 18,
   "metadata": {},
   "outputs": [
    {
     "ename": "AttributeError",
     "evalue": "'numpy.ndarray' object has no attribute 'value_counts'",
     "output_type": "error",
     "traceback": [
      "\u001b[1;31m---------------------------------------------------------------------------\u001b[0m",
      "\u001b[1;31mAttributeError\u001b[0m                            Traceback (most recent call last)",
      "\u001b[1;32m<ipython-input-18-fc85c3c6f772>\u001b[0m in \u001b[0;36m<module>\u001b[1;34m\u001b[0m\n\u001b[1;32m----> 1\u001b[1;33m \u001b[0mp2020\u001b[0m\u001b[1;33m.\u001b[0m\u001b[0mvalue_counts\u001b[0m\u001b[1;33m(\u001b[0m\u001b[1;33m)\u001b[0m\u001b[1;33m\u001b[0m\u001b[1;33m\u001b[0m\u001b[0m\n\u001b[0m",
      "\u001b[1;31mAttributeError\u001b[0m: 'numpy.ndarray' object has no attribute 'value_counts'"
     ]
    }
   ],
   "source": [
    "p2020.value_counts()"
   ]
  },
  {
   "cell_type": "code",
   "execution_count": 19,
   "metadata": {},
   "outputs": [],
   "source": [
    "df2020_final = df2020"
   ]
  },
  {
   "cell_type": "code",
   "execution_count": 20,
   "metadata": {},
   "outputs": [],
   "source": [
    "df2020_final['dano_na_plantacao_predicted'] =p2020"
   ]
  },
  {
   "cell_type": "code",
   "execution_count": 21,
   "metadata": {},
   "outputs": [
    {
     "data": {
      "text/html": [
       "<div>\n",
       "<style scoped>\n",
       "    .dataframe tbody tr th:only-of-type {\n",
       "        vertical-align: middle;\n",
       "    }\n",
       "\n",
       "    .dataframe tbody tr th {\n",
       "        vertical-align: top;\n",
       "    }\n",
       "\n",
       "    .dataframe thead th {\n",
       "        text-align: right;\n",
       "    }\n",
       "</style>\n",
       "<table border=\"1\" class=\"dataframe\">\n",
       "  <thead>\n",
       "    <tr style=\"text-align: right;\">\n",
       "      <th></th>\n",
       "      <th>Unnamed: 0</th>\n",
       "      <th>Identificador_Agricultor</th>\n",
       "      <th>Estimativa_de_Insetos</th>\n",
       "      <th>Tipo_de_Cultivo</th>\n",
       "      <th>Tipo_de_Solo</th>\n",
       "      <th>Categoria_Pesticida</th>\n",
       "      <th>Doses_Semana</th>\n",
       "      <th>Semanas_Utilizando</th>\n",
       "      <th>Semanas_Sem_Uso</th>\n",
       "      <th>Temporada</th>\n",
       "      <th>dano_na_plantacao_predicted</th>\n",
       "    </tr>\n",
       "  </thead>\n",
       "  <tbody>\n",
       "    <tr>\n",
       "      <th>0</th>\n",
       "      <td>80000</td>\n",
       "      <td>SCROP80001</td>\n",
       "      <td>256</td>\n",
       "      <td>0</td>\n",
       "      <td>1</td>\n",
       "      <td>2</td>\n",
       "      <td>35</td>\n",
       "      <td>11.0</td>\n",
       "      <td>9</td>\n",
       "      <td>1</td>\n",
       "      <td>0</td>\n",
       "    </tr>\n",
       "    <tr>\n",
       "      <th>1</th>\n",
       "      <td>80001</td>\n",
       "      <td>SCROP80002</td>\n",
       "      <td>283</td>\n",
       "      <td>0</td>\n",
       "      <td>1</td>\n",
       "      <td>2</td>\n",
       "      <td>5</td>\n",
       "      <td>5.0</td>\n",
       "      <td>6</td>\n",
       "      <td>1</td>\n",
       "      <td>0</td>\n",
       "    </tr>\n",
       "    <tr>\n",
       "      <th>2</th>\n",
       "      <td>80002</td>\n",
       "      <td>SCROP80003</td>\n",
       "      <td>283</td>\n",
       "      <td>0</td>\n",
       "      <td>1</td>\n",
       "      <td>2</td>\n",
       "      <td>15</td>\n",
       "      <td>15.0</td>\n",
       "      <td>5</td>\n",
       "      <td>2</td>\n",
       "      <td>0</td>\n",
       "    </tr>\n",
       "    <tr>\n",
       "      <th>3</th>\n",
       "      <td>80003</td>\n",
       "      <td>SCROP80004</td>\n",
       "      <td>283</td>\n",
       "      <td>0</td>\n",
       "      <td>1</td>\n",
       "      <td>2</td>\n",
       "      <td>15</td>\n",
       "      <td>NaN</td>\n",
       "      <td>7</td>\n",
       "      <td>2</td>\n",
       "      <td>0</td>\n",
       "    </tr>\n",
       "    <tr>\n",
       "      <th>4</th>\n",
       "      <td>80004</td>\n",
       "      <td>SCROP80005</td>\n",
       "      <td>283</td>\n",
       "      <td>0</td>\n",
       "      <td>1</td>\n",
       "      <td>2</td>\n",
       "      <td>15</td>\n",
       "      <td>19.0</td>\n",
       "      <td>2</td>\n",
       "      <td>1</td>\n",
       "      <td>0</td>\n",
       "    </tr>\n",
       "  </tbody>\n",
       "</table>\n",
       "</div>"
      ],
      "text/plain": [
       "   Unnamed: 0 Identificador_Agricultor  Estimativa_de_Insetos  \\\n",
       "0       80000               SCROP80001                    256   \n",
       "1       80001               SCROP80002                    283   \n",
       "2       80002               SCROP80003                    283   \n",
       "3       80003               SCROP80004                    283   \n",
       "4       80004               SCROP80005                    283   \n",
       "\n",
       "   Tipo_de_Cultivo  Tipo_de_Solo  Categoria_Pesticida  Doses_Semana  \\\n",
       "0                0             1                    2            35   \n",
       "1                0             1                    2             5   \n",
       "2                0             1                    2            15   \n",
       "3                0             1                    2            15   \n",
       "4                0             1                    2            15   \n",
       "\n",
       "   Semanas_Utilizando  Semanas_Sem_Uso  Temporada  dano_na_plantacao_predicted  \n",
       "0                11.0                9          1                            0  \n",
       "1                 5.0                6          1                            0  \n",
       "2                15.0                5          2                            0  \n",
       "3                 NaN                7          2                            0  \n",
       "4                19.0                2          1                            0  "
      ]
     },
     "execution_count": 21,
     "metadata": {},
     "output_type": "execute_result"
    }
   ],
   "source": [
    "df2020_final.head()"
   ]
  },
  {
   "cell_type": "markdown",
   "metadata": {},
   "source": [
    "## Gerando Arquivo .CSV"
   ]
  },
  {
   "cell_type": "code",
   "execution_count": 22,
   "metadata": {},
   "outputs": [],
   "source": [
    "df2020_final.to_csv(\"Previsão_2020.csv\",header = True)"
   ]
  }
 ],
 "metadata": {
  "kernelspec": {
   "display_name": "Python 3",
   "language": "python",
   "name": "python3"
  },
  "language_info": {
   "codemirror_mode": {
    "name": "ipython",
    "version": 3
   },
   "file_extension": ".py",
   "mimetype": "text/x-python",
   "name": "python",
   "nbconvert_exporter": "python",
   "pygments_lexer": "ipython3",
   "version": "3.7.3"
  }
 },
 "nbformat": 4,
 "nbformat_minor": 2
}
